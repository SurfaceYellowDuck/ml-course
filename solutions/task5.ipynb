{
 "cells": [
  {
   "cell_type": "markdown",
   "metadata": {},
   "source": [
    "# Задача 5. Обучение без учителя\n",
    "## Задача\n",
    "\n",
    "- Найти данные с количеством признаков хотя бы 50, на которых можно решить задачу кластеризации.\n",
    "- Выполнить разведочный анализ (**EDA**). При необходимости выполнить полезные преобразования данных.\n",
    "- Самостоятельно реализуйте один из алгоритмов кластеризации, например **K-means**.\n",
    "- Обучите модели кластеризации, используя свою реализацию, а также хотя бы две реализации из **sklearn** (**KMeans**, **Affinity Propogation**, **DBSCAN** и тд).\n",
    "- При обучении использовать **подбор гиперпараметров**.\n",
    "- Сравнить качество моделей: замерить скорость обучения, вычислить различные метрики качества.\n",
    "- Также снизить размерность данных с помощью метода главных компонент **PCA** и и понять качество дальнейшей кластеризации всеми использованными реализациями при различном количестве главных компонент.\n",
    "-  Визуализировать данные снижением размерности до 2 или 3 с помощью **PCA** и **t-SNE**. В случае проблем с производительностью **t-SNE**, можно сначала до какой то степени снизить размерность с помощью **PCA**, а затем запустить **t-SNE**."
   ]
  },
  {
   "cell_type": "code",
   "metadata": {
    "ExecuteTime": {
     "end_time": "2025-03-19T13:07:21.204532Z",
     "start_time": "2025-03-19T13:07:21.198379Z"
    }
   },
   "source": [
    "import numpy as np\n",
    "import pandas as pd\n",
    "import matplotlib.pyplot as plt\n",
    "%matplotlib inline\n",
    "import seaborn as sns\n",
    "import pathlib\n",
    "\n",
    "# устанавливаем точность чисел с плавающей точкой\n",
    "%precision % .4f\n",
    "\n",
    "import warnings\n",
    "\n",
    "warnings.filterwarnings('ignore')  # отключаем предупреждения\n",
    "dataset_path = pathlib.Path().resolve().parent / \"datasets\" / \"self_data\" / \"task06_data.csv\""
   ],
   "outputs": [],
   "execution_count": 26
  },
  {
   "cell_type": "markdown",
   "metadata": {},
   "source": [
    "# Датасет\n",
    "Будет использован [Датасет](https://www.kaggle.com/datasets/ashishguptajiit/handwritten-az), который состоит из 372038 изображений 28x28.\n",
    "\n",
    "Первая колонка содержит в себе букву, которая нарисована.\n",
    "- *0* A\n",
    "- *1* B\n",
    "- ...\n",
    "- *25* Z\n",
    "\n",
    "Так как мой компьютер не потянет столько значений, то я с помощью скрипта отобрал по 500 изображений каждой буквы"
   ]
  },
  {
   "cell_type": "code",
   "metadata": {
    "ExecuteTime": {
     "end_time": "2025-03-19T13:07:21.230089Z",
     "start_time": "2025-03-19T13:07:21.216114Z"
    }
   },
   "source": [
    "df = pd.read_csv(dataset_path)"
   ],
   "outputs": [],
   "execution_count": 27
  },
  {
   "cell_type": "markdown",
   "metadata": {},
   "source": [
    "# 1.EDA"
   ]
  },
  {
   "cell_type": "code",
   "metadata": {
    "ExecuteTime": {
     "end_time": "2025-03-19T13:07:21.242635Z",
     "start_time": "2025-03-19T13:07:21.235660Z"
    }
   },
   "source": [
    "df.head()"
   ],
   "outputs": [
    {
     "data": {
      "text/plain": [
       "   0  0.1  0.2  0.3  0.4  0.5  0.6  0.7  0.8  0.9  ...  0.598  0.599  0.600  \\\n",
       "0  0    0    0    0    0    0    0    0    0    0  ...      0      0      0   \n",
       "1  0    0    0    0    0    0    0    0    0    0  ...      0      0      0   \n",
       "2  0    0    0    0    0    0    0    0    0    0  ...      0      0      0   \n",
       "3  0    0    0    0    0    0    0    0    0    0  ...      0      0      0   \n",
       "4  0    0    0    0    0    0    0    0    0    0  ...      0      0      0   \n",
       "\n",
       "   0.601  0.602  0.603  0.604  0.605  0.606  0.607  \n",
       "0      0      0      0      0      0      0      0  \n",
       "1      0      0      0      0      0      0      0  \n",
       "2      0      0      0      0      0      0      0  \n",
       "3      0      0      0      0      0      0      0  \n",
       "4      0      0      0      0      0      0      0  \n",
       "\n",
       "[5 rows x 785 columns]"
      ],
      "text/html": [
       "<div>\n",
       "<style scoped>\n",
       "    .dataframe tbody tr th:only-of-type {\n",
       "        vertical-align: middle;\n",
       "    }\n",
       "\n",
       "    .dataframe tbody tr th {\n",
       "        vertical-align: top;\n",
       "    }\n",
       "\n",
       "    .dataframe thead th {\n",
       "        text-align: right;\n",
       "    }\n",
       "</style>\n",
       "<table border=\"1\" class=\"dataframe\">\n",
       "  <thead>\n",
       "    <tr style=\"text-align: right;\">\n",
       "      <th></th>\n",
       "      <th>0</th>\n",
       "      <th>0.1</th>\n",
       "      <th>0.2</th>\n",
       "      <th>0.3</th>\n",
       "      <th>0.4</th>\n",
       "      <th>0.5</th>\n",
       "      <th>0.6</th>\n",
       "      <th>0.7</th>\n",
       "      <th>0.8</th>\n",
       "      <th>0.9</th>\n",
       "      <th>...</th>\n",
       "      <th>0.598</th>\n",
       "      <th>0.599</th>\n",
       "      <th>0.600</th>\n",
       "      <th>0.601</th>\n",
       "      <th>0.602</th>\n",
       "      <th>0.603</th>\n",
       "      <th>0.604</th>\n",
       "      <th>0.605</th>\n",
       "      <th>0.606</th>\n",
       "      <th>0.607</th>\n",
       "    </tr>\n",
       "  </thead>\n",
       "  <tbody>\n",
       "    <tr>\n",
       "      <th>0</th>\n",
       "      <td>0</td>\n",
       "      <td>0</td>\n",
       "      <td>0</td>\n",
       "      <td>0</td>\n",
       "      <td>0</td>\n",
       "      <td>0</td>\n",
       "      <td>0</td>\n",
       "      <td>0</td>\n",
       "      <td>0</td>\n",
       "      <td>0</td>\n",
       "      <td>...</td>\n",
       "      <td>0</td>\n",
       "      <td>0</td>\n",
       "      <td>0</td>\n",
       "      <td>0</td>\n",
       "      <td>0</td>\n",
       "      <td>0</td>\n",
       "      <td>0</td>\n",
       "      <td>0</td>\n",
       "      <td>0</td>\n",
       "      <td>0</td>\n",
       "    </tr>\n",
       "    <tr>\n",
       "      <th>1</th>\n",
       "      <td>0</td>\n",
       "      <td>0</td>\n",
       "      <td>0</td>\n",
       "      <td>0</td>\n",
       "      <td>0</td>\n",
       "      <td>0</td>\n",
       "      <td>0</td>\n",
       "      <td>0</td>\n",
       "      <td>0</td>\n",
       "      <td>0</td>\n",
       "      <td>...</td>\n",
       "      <td>0</td>\n",
       "      <td>0</td>\n",
       "      <td>0</td>\n",
       "      <td>0</td>\n",
       "      <td>0</td>\n",
       "      <td>0</td>\n",
       "      <td>0</td>\n",
       "      <td>0</td>\n",
       "      <td>0</td>\n",
       "      <td>0</td>\n",
       "    </tr>\n",
       "    <tr>\n",
       "      <th>2</th>\n",
       "      <td>0</td>\n",
       "      <td>0</td>\n",
       "      <td>0</td>\n",
       "      <td>0</td>\n",
       "      <td>0</td>\n",
       "      <td>0</td>\n",
       "      <td>0</td>\n",
       "      <td>0</td>\n",
       "      <td>0</td>\n",
       "      <td>0</td>\n",
       "      <td>...</td>\n",
       "      <td>0</td>\n",
       "      <td>0</td>\n",
       "      <td>0</td>\n",
       "      <td>0</td>\n",
       "      <td>0</td>\n",
       "      <td>0</td>\n",
       "      <td>0</td>\n",
       "      <td>0</td>\n",
       "      <td>0</td>\n",
       "      <td>0</td>\n",
       "    </tr>\n",
       "    <tr>\n",
       "      <th>3</th>\n",
       "      <td>0</td>\n",
       "      <td>0</td>\n",
       "      <td>0</td>\n",
       "      <td>0</td>\n",
       "      <td>0</td>\n",
       "      <td>0</td>\n",
       "      <td>0</td>\n",
       "      <td>0</td>\n",
       "      <td>0</td>\n",
       "      <td>0</td>\n",
       "      <td>...</td>\n",
       "      <td>0</td>\n",
       "      <td>0</td>\n",
       "      <td>0</td>\n",
       "      <td>0</td>\n",
       "      <td>0</td>\n",
       "      <td>0</td>\n",
       "      <td>0</td>\n",
       "      <td>0</td>\n",
       "      <td>0</td>\n",
       "      <td>0</td>\n",
       "    </tr>\n",
       "    <tr>\n",
       "      <th>4</th>\n",
       "      <td>0</td>\n",
       "      <td>0</td>\n",
       "      <td>0</td>\n",
       "      <td>0</td>\n",
       "      <td>0</td>\n",
       "      <td>0</td>\n",
       "      <td>0</td>\n",
       "      <td>0</td>\n",
       "      <td>0</td>\n",
       "      <td>0</td>\n",
       "      <td>...</td>\n",
       "      <td>0</td>\n",
       "      <td>0</td>\n",
       "      <td>0</td>\n",
       "      <td>0</td>\n",
       "      <td>0</td>\n",
       "      <td>0</td>\n",
       "      <td>0</td>\n",
       "      <td>0</td>\n",
       "      <td>0</td>\n",
       "      <td>0</td>\n",
       "    </tr>\n",
       "  </tbody>\n",
       "</table>\n",
       "<p>5 rows × 785 columns</p>\n",
       "</div>"
      ]
     },
     "execution_count": 28,
     "metadata": {},
     "output_type": "execute_result"
    }
   ],
   "execution_count": 28
  },
  {
   "cell_type": "markdown",
   "metadata": {},
   "source": [
    "Заменим названия колонок на более понятные"
   ]
  },
  {
   "cell_type": "code",
   "metadata": {
    "ExecuteTime": {
     "end_time": "2025-03-19T13:07:21.389355Z",
     "start_time": "2025-03-19T13:07:21.386017Z"
    }
   },
   "source": [
    "rename_dict = {}\n",
    "i = 0\n",
    "\n",
    "for column in df:\n",
    "    rename_dict[column] = f\"pixel{i}\"\n",
    "    i += 1\n",
    "\n",
    "df.rename(columns=rename_dict, inplace=True)\n",
    "df.rename(columns={\"pixel0\": \"label\"}, inplace=True)"
   ],
   "outputs": [],
   "execution_count": 29
  },
  {
   "cell_type": "code",
   "metadata": {
    "ExecuteTime": {
     "end_time": "2025-03-19T13:07:21.402136Z",
     "start_time": "2025-03-19T13:07:21.395413Z"
    }
   },
   "source": [
    "df.head()"
   ],
   "outputs": [
    {
     "data": {
      "text/plain": [
       "   label  pixel1  pixel2  pixel3  pixel4  pixel5  pixel6  pixel7  pixel8  \\\n",
       "0      0       0       0       0       0       0       0       0       0   \n",
       "1      0       0       0       0       0       0       0       0       0   \n",
       "2      0       0       0       0       0       0       0       0       0   \n",
       "3      0       0       0       0       0       0       0       0       0   \n",
       "4      0       0       0       0       0       0       0       0       0   \n",
       "\n",
       "   pixel9  ...  pixel775  pixel776  pixel777  pixel778  pixel779  pixel780  \\\n",
       "0       0  ...         0         0         0         0         0         0   \n",
       "1       0  ...         0         0         0         0         0         0   \n",
       "2       0  ...         0         0         0         0         0         0   \n",
       "3       0  ...         0         0         0         0         0         0   \n",
       "4       0  ...         0         0         0         0         0         0   \n",
       "\n",
       "   pixel781  pixel782  pixel783  pixel784  \n",
       "0         0         0         0         0  \n",
       "1         0         0         0         0  \n",
       "2         0         0         0         0  \n",
       "3         0         0         0         0  \n",
       "4         0         0         0         0  \n",
       "\n",
       "[5 rows x 785 columns]"
      ],
      "text/html": [
       "<div>\n",
       "<style scoped>\n",
       "    .dataframe tbody tr th:only-of-type {\n",
       "        vertical-align: middle;\n",
       "    }\n",
       "\n",
       "    .dataframe tbody tr th {\n",
       "        vertical-align: top;\n",
       "    }\n",
       "\n",
       "    .dataframe thead th {\n",
       "        text-align: right;\n",
       "    }\n",
       "</style>\n",
       "<table border=\"1\" class=\"dataframe\">\n",
       "  <thead>\n",
       "    <tr style=\"text-align: right;\">\n",
       "      <th></th>\n",
       "      <th>label</th>\n",
       "      <th>pixel1</th>\n",
       "      <th>pixel2</th>\n",
       "      <th>pixel3</th>\n",
       "      <th>pixel4</th>\n",
       "      <th>pixel5</th>\n",
       "      <th>pixel6</th>\n",
       "      <th>pixel7</th>\n",
       "      <th>pixel8</th>\n",
       "      <th>pixel9</th>\n",
       "      <th>...</th>\n",
       "      <th>pixel775</th>\n",
       "      <th>pixel776</th>\n",
       "      <th>pixel777</th>\n",
       "      <th>pixel778</th>\n",
       "      <th>pixel779</th>\n",
       "      <th>pixel780</th>\n",
       "      <th>pixel781</th>\n",
       "      <th>pixel782</th>\n",
       "      <th>pixel783</th>\n",
       "      <th>pixel784</th>\n",
       "    </tr>\n",
       "  </thead>\n",
       "  <tbody>\n",
       "    <tr>\n",
       "      <th>0</th>\n",
       "      <td>0</td>\n",
       "      <td>0</td>\n",
       "      <td>0</td>\n",
       "      <td>0</td>\n",
       "      <td>0</td>\n",
       "      <td>0</td>\n",
       "      <td>0</td>\n",
       "      <td>0</td>\n",
       "      <td>0</td>\n",
       "      <td>0</td>\n",
       "      <td>...</td>\n",
       "      <td>0</td>\n",
       "      <td>0</td>\n",
       "      <td>0</td>\n",
       "      <td>0</td>\n",
       "      <td>0</td>\n",
       "      <td>0</td>\n",
       "      <td>0</td>\n",
       "      <td>0</td>\n",
       "      <td>0</td>\n",
       "      <td>0</td>\n",
       "    </tr>\n",
       "    <tr>\n",
       "      <th>1</th>\n",
       "      <td>0</td>\n",
       "      <td>0</td>\n",
       "      <td>0</td>\n",
       "      <td>0</td>\n",
       "      <td>0</td>\n",
       "      <td>0</td>\n",
       "      <td>0</td>\n",
       "      <td>0</td>\n",
       "      <td>0</td>\n",
       "      <td>0</td>\n",
       "      <td>...</td>\n",
       "      <td>0</td>\n",
       "      <td>0</td>\n",
       "      <td>0</td>\n",
       "      <td>0</td>\n",
       "      <td>0</td>\n",
       "      <td>0</td>\n",
       "      <td>0</td>\n",
       "      <td>0</td>\n",
       "      <td>0</td>\n",
       "      <td>0</td>\n",
       "    </tr>\n",
       "    <tr>\n",
       "      <th>2</th>\n",
       "      <td>0</td>\n",
       "      <td>0</td>\n",
       "      <td>0</td>\n",
       "      <td>0</td>\n",
       "      <td>0</td>\n",
       "      <td>0</td>\n",
       "      <td>0</td>\n",
       "      <td>0</td>\n",
       "      <td>0</td>\n",
       "      <td>0</td>\n",
       "      <td>...</td>\n",
       "      <td>0</td>\n",
       "      <td>0</td>\n",
       "      <td>0</td>\n",
       "      <td>0</td>\n",
       "      <td>0</td>\n",
       "      <td>0</td>\n",
       "      <td>0</td>\n",
       "      <td>0</td>\n",
       "      <td>0</td>\n",
       "      <td>0</td>\n",
       "    </tr>\n",
       "    <tr>\n",
       "      <th>3</th>\n",
       "      <td>0</td>\n",
       "      <td>0</td>\n",
       "      <td>0</td>\n",
       "      <td>0</td>\n",
       "      <td>0</td>\n",
       "      <td>0</td>\n",
       "      <td>0</td>\n",
       "      <td>0</td>\n",
       "      <td>0</td>\n",
       "      <td>0</td>\n",
       "      <td>...</td>\n",
       "      <td>0</td>\n",
       "      <td>0</td>\n",
       "      <td>0</td>\n",
       "      <td>0</td>\n",
       "      <td>0</td>\n",
       "      <td>0</td>\n",
       "      <td>0</td>\n",
       "      <td>0</td>\n",
       "      <td>0</td>\n",
       "      <td>0</td>\n",
       "    </tr>\n",
       "    <tr>\n",
       "      <th>4</th>\n",
       "      <td>0</td>\n",
       "      <td>0</td>\n",
       "      <td>0</td>\n",
       "      <td>0</td>\n",
       "      <td>0</td>\n",
       "      <td>0</td>\n",
       "      <td>0</td>\n",
       "      <td>0</td>\n",
       "      <td>0</td>\n",
       "      <td>0</td>\n",
       "      <td>...</td>\n",
       "      <td>0</td>\n",
       "      <td>0</td>\n",
       "      <td>0</td>\n",
       "      <td>0</td>\n",
       "      <td>0</td>\n",
       "      <td>0</td>\n",
       "      <td>0</td>\n",
       "      <td>0</td>\n",
       "      <td>0</td>\n",
       "      <td>0</td>\n",
       "    </tr>\n",
       "  </tbody>\n",
       "</table>\n",
       "<p>5 rows × 785 columns</p>\n",
       "</div>"
      ]
     },
     "execution_count": 30,
     "metadata": {},
     "output_type": "execute_result"
    }
   ],
   "execution_count": 30
  },
  {
   "cell_type": "code",
   "metadata": {
    "ExecuteTime": {
     "end_time": "2025-03-19T13:07:21.469527Z",
     "start_time": "2025-03-19T13:07:21.453533Z"
    }
   },
   "source": [
    "df.info()"
   ],
   "outputs": [
    {
     "name": "stdout",
     "output_type": "stream",
     "text": [
      "<class 'pandas.core.frame.DataFrame'>\n",
      "RangeIndex: 105 entries, 0 to 104\n",
      "Columns: 785 entries, label to pixel784\n",
      "dtypes: int64(785)\n",
      "memory usage: 644.1 KB\n"
     ]
    }
   ],
   "execution_count": 31
  },
  {
   "cell_type": "code",
   "metadata": {
    "ExecuteTime": {
     "end_time": "2025-03-19T13:07:21.564686Z",
     "start_time": "2025-03-19T13:07:21.561794Z"
    }
   },
   "source": [
    "labels = df[\"label\"]\n",
    "labels.unique()"
   ],
   "outputs": [
    {
     "data": {
      "text/plain": [
       "array([0])"
      ]
     },
     "execution_count": 32,
     "metadata": {},
     "output_type": "execute_result"
    }
   ],
   "execution_count": 32
  },
  {
   "cell_type": "code",
   "metadata": {
    "ExecuteTime": {
     "end_time": "2025-03-19T13:07:21.674308Z",
     "start_time": "2025-03-19T13:07:21.670724Z"
    }
   },
   "source": [
    "labels.value_counts()"
   ],
   "outputs": [
    {
     "data": {
      "text/plain": [
       "label\n",
       "0    105\n",
       "Name: count, dtype: int64"
      ]
     },
     "execution_count": 33,
     "metadata": {},
     "output_type": "execute_result"
    }
   ],
   "execution_count": 33
  },
  {
   "cell_type": "code",
   "metadata": {
    "ExecuteTime": {
     "end_time": "2025-03-19T13:07:21.936372Z",
     "start_time": "2025-03-19T13:07:21.933416Z"
    }
   },
   "source": [
    "df.isnull().sum()"
   ],
   "outputs": [
    {
     "data": {
      "text/plain": [
       "label       0\n",
       "pixel1      0\n",
       "pixel2      0\n",
       "pixel3      0\n",
       "pixel4      0\n",
       "           ..\n",
       "pixel780    0\n",
       "pixel781    0\n",
       "pixel782    0\n",
       "pixel783    0\n",
       "pixel784    0\n",
       "Length: 785, dtype: int64"
      ]
     },
     "execution_count": 34,
     "metadata": {},
     "output_type": "execute_result"
    }
   ],
   "execution_count": 34
  },
  {
   "cell_type": "code",
   "metadata": {
    "ExecuteTime": {
     "end_time": "2025-03-19T13:07:22.565953Z",
     "start_time": "2025-03-19T13:07:22.563384Z"
    }
   },
   "source": [
    "df.drop(columns=[\"label\"], inplace=True)"
   ],
   "outputs": [],
   "execution_count": 35
  },
  {
   "cell_type": "markdown",
   "metadata": {},
   "source": [
    "# PCA & t-SNE"
   ]
  },
  {
   "cell_type": "code",
   "metadata": {
    "ExecuteTime": {
     "end_time": "2025-03-19T13:07:22.802228Z",
     "start_time": "2025-03-19T13:07:22.783726Z"
    }
   },
   "source": [
    "%%time\n",
    "from sklearn.decomposition import PCA\n",
    "pca = PCA()\n",
    "\n",
    "pca_res = pca.fit_transform(df)"
   ],
   "outputs": [
    {
     "name": "stdout",
     "output_type": "stream",
     "text": [
      "CPU times: user 13.2 ms, sys: 11 ms, total: 24.2 ms\n",
      "Wall time: 16.2 ms\n"
     ]
    }
   ],
   "execution_count": 36
  },
  {
   "cell_type": "code",
   "metadata": {
    "ExecuteTime": {
     "end_time": "2025-03-19T13:07:22.983327Z",
     "start_time": "2025-03-19T13:07:22.846807Z"
    }
   },
   "source": [
    "plt.figure(figsize=(13, 11))\n",
    "plt.scatter(pca_res[:, 0], pca_res[:, 1], c=labels,\n",
    "            edgecolor='none', alpha=0.7, s=40,\n",
    "            cmap=plt.cm.get_cmap('nipy_spectral', 10))\n",
    "plt.colorbar();"
   ],
   "outputs": [
    {
     "data": {
      "text/plain": [
       "<Figure size 1300x1100 with 2 Axes>"
      ],
      "image/png": "[encoded data removed]"
     },
     "metadata": {},
     "output_type": "display_data"
    }
   ],
   "execution_count": 37
  },
  {
   "cell_type": "code",
   "metadata": {
    "ExecuteTime": {
     "end_time": "2025-03-19T13:07:23.284728Z",
     "start_time": "2025-03-19T13:07:22.997353Z"
    }
   },
   "source": [
    "%%time\n",
    "from sklearn.manifold import TSNE\n",
    "\n",
    "tsne = TSNE().fit_transform(df)"
   ],
   "outputs": [
    {
     "name": "stdout",
     "output_type": "stream",
     "text": [
      "CPU times: user 1.4 s, sys: 502 ms, total: 1.9 s\n",
      "Wall time: 285 ms\n"
     ]
    }
   ],
   "execution_count": 38
  },
  {
   "cell_type": "code",
   "metadata": {
    "ExecuteTime": {
     "end_time": "2025-03-19T13:07:23.343975Z",
     "start_time": "2025-03-19T13:07:23.294814Z"
    }
   },
   "source": [
    "plt.scatter(tsne[:,0], tsne[:,1], c=labels, alpha=0.5);"
   ],
   "outputs": [
    {
     "data": {
      "text/plain": [
       "<Figure size 640x480 with 1 Axes>"
      ],
      "image/png": "[encoded data removed]"
     },
     "metadata": {},
     "output_type": "display_data"
    }
   ],
   "execution_count": 39
  },
  {
   "cell_type": "code",
   "metadata": {
    "ExecuteTime": {
     "end_time": "2025-03-19T13:07:23.400766Z",
     "start_time": "2025-03-19T13:07:23.354534Z"
    }
   },
   "source": [
    "plt.imshow(df.max().values.reshape([28, 28]), cmap=\"gray\");"
   ],
   "outputs": [
    {
     "data": {
      "text/plain": [
       "<Figure size 640x480 with 1 Axes>"
      ],
      "image/png": "[encoded data removed]"
     },
     "metadata": {},
     "output_type": "display_data"
    }
   ],
   "execution_count": 40
  },
  {
   "cell_type": "markdown",
   "metadata": {},
   "source": [
    "Видим, что очень много неиспользумых пикселей\n",
    "Выясним, сколько из пикселей содержат в себе наибольшую часть информации\n"
   ]
  },
  {
   "cell_type": "code",
   "metadata": {
    "ExecuteTime": {
     "end_time": "2025-03-19T13:07:23.462718Z",
     "start_time": "2025-03-19T13:07:23.410844Z"
    }
   },
   "source": [
    "plt.figure(figsize=(8, 6))\n",
    "plt.plot(np.cumsum(pca.explained_variance_ratio_))\n",
    "plt.xlabel(\"Размерность\")\n",
    "plt.ylabel(\"Суммарная описываемая дисперсия\")\n",
    "plt.yticks(np.arange(0, 1.1, 0.1))\n",
    "plt.xticks([*plt.xticks()[0], 20, 40, 28 * 28])\n",
    "plt.xlim(0, 28 * 28)\n",
    "plt.grid(True)"
   ],
   "outputs": [
    {
     "data": {
      "text/plain": [
       "<Figure size 800x600 with 1 Axes>"
      ],
      "image/png": "[encoded data removed]"
     },
     "metadata": {},
     "output_type": "display_data"
    }
   ],
   "execution_count": 41
  },
  {
   "cell_type": "markdown",
   "metadata": {},
   "source": [
    "Уже при размерности 40, можно описать 80% дисперсии."
   ]
  },
  {
   "cell_type": "markdown",
   "metadata": {},
   "source": [
    "# Реализации алгоритма"
   ]
  },
  {
   "cell_type": "code",
   "metadata": {
    "ExecuteTime": {
     "end_time": "2025-03-19T13:07:23.478117Z",
     "start_time": "2025-03-19T13:07:23.473881Z"
    }
   },
   "source": [
    "from sklearn.base import BaseEstimator, ClusterMixin\n",
    "from sklearn.utils import check_array, check_scalar, check_random_state\n",
    "from sklearn.utils.validation import check_is_fitted\n",
    "\n",
    "class SelfWritedKMeans(BaseEstimator, ClusterMixin):\n",
    "    def __init__(self, n_clusters=10, *, tol=1e-4, random_state=None):\n",
    "        self.n_clusters = n_clusters\n",
    "        self.tol = tol\n",
    "        self.random_state = random_state\n",
    "\n",
    "    def predict(self, x):\n",
    "        check_is_fitted(self)\n",
    "        return self._get_labels(check_array(x))\n",
    "\n",
    "    def fit(self, x, y=None):\n",
    "        self.n_clusters = check_scalar(self.n_clusters, \"n_clusters\", int, min_val=1)\n",
    "        self.tol = check_scalar(self.tol, \"tol\", float, min_val=0)\n",
    "        self.random_state_ = check_random_state(self.random_state)\n",
    "        x = check_array(x)\n",
    "\n",
    "        self.n_features_in_ = x.shape[1]\n",
    "        self.cluster_centers_ = x[self.random_state_.choice(len(x), size=self.n_clusters, replace=False), :]\n",
    "        max_center_shift = np.inf\n",
    "\n",
    "        while max_center_shift > self.tol:\n",
    "            self.labels_ = self._get_labels(x)\n",
    "\n",
    "            new = np.empty((self.n_clusters, self.n_features_in_))\n",
    "            for i in np.unique(self.labels_):\n",
    "                new[i] = np.mean(x[self.labels_ == i], axis=0)\n",
    "\n",
    "            max_center_shift = np.max(np.linalg.norm(self.cluster_centers_ - new, axis=1))\n",
    "\n",
    "            self.cluster_centers_ = new\n",
    "\n",
    "        return self\n",
    "\n",
    "    def _get_labels(self, x):\n",
    "        return np.argmin(\n",
    "            np.linalg.norm(x[..., None] - self.cluster_centers_.T, axis=1),\n",
    "            axis=1,\n",
    "        )"
   ],
   "outputs": [],
   "execution_count": 42
  },
  {
   "cell_type": "markdown",
   "metadata": {},
   "source": [
    "Используем *ARI*, *AMI*, *FMI* в качестве метрик, так как мы знаем ответы для данных"
   ]
  },
  {
   "cell_type": "code",
   "metadata": {
    "ExecuteTime": {
     "end_time": "2025-03-19T13:07:23.522065Z",
     "start_time": "2025-03-19T13:07:23.488955Z"
    }
   },
   "source": [
    "%%time\n",
    "xs = [df, *(PCA(n_components=i).fit_transform(df) for i in [20, 50, 100, 105])]"
   ],
   "outputs": [
    {
     "name": "stdout",
     "output_type": "stream",
     "text": [
      "CPU times: user 27.2 ms, sys: 9.29 ms, total: 36.4 ms\n",
      "Wall time: 30.8 ms\n"
     ]
    }
   ],
   "execution_count": 43
  },
  {
   "cell_type": "code",
   "metadata": {
    "ExecuteTime": {
     "end_time": "2025-03-19T13:07:23.535100Z",
     "start_time": "2025-03-19T13:07:23.530727Z"
    }
   },
   "source": [
    "import itertools, time\n",
    "from sklearn.metrics import adjusted_rand_score, adjusted_mutual_info_score, fowlkes_mallows_score\n",
    "from sklearn.base import clone\n",
    "\n",
    "def train(est, params):\n",
    "    params_combs = [\n",
    "        dict(param) for param in\n",
    "        itertools.product(*([(name, v) for v in vs] for (name, vs) in params.items()))\n",
    "    ]\n",
    "\n",
    "    results = []\n",
    "    for x in xs:\n",
    "        best_ari = None\n",
    "        best_ami = None\n",
    "        best_fmi = None\n",
    "\n",
    "        for param in params_combs:\n",
    "            e = clone(est).set_params(**param)\n",
    "            start_time = time.perf_counter()\n",
    "            pred = e.fit_predict(x)\n",
    "            pred_time = (time.perf_counter() - start_time)\n",
    "\n",
    "            ari = adjusted_rand_score(labels, pred)\n",
    "            if best_ari is None or ari > best_ari[0]:\n",
    "                best_ari = ari, pred_time, param\n",
    "\n",
    "            ami = adjusted_mutual_info_score(labels, pred)\n",
    "            if best_ami is None or ami > best_ami[0]:\n",
    "                best_ami = ami, pred_time, param\n",
    "\n",
    "            fmi = fowlkes_mallows_score(labels, pred)\n",
    "            if best_fmi is None or fmi > best_fmi[0]:\n",
    "                best_fmi = fmi, pred_time, param\n",
    "\n",
    "        res = {\n",
    "            \"cluster\": est.__class__.__name__,\n",
    "            \"dimension\": x.shape[1],\n",
    "            \"mean fit predict time, s\": np.mean([best_ari[1], best_ami[1], best_fmi[1]]),\n",
    "            \"best ari\": best_ari[0],\n",
    "            \"best ami\": best_ami[0],\n",
    "            \"best fmi\": best_fmi[0]\n",
    "        }\n",
    "\n",
    "        print(res)\n",
    "        results.append(res)\n",
    "\n",
    "\n",
    "\n",
    "    path = pathlib.Path(\"train_res.csv\")\n",
    "    pd.DataFrame(results).to_csv(path, mode=\"a\", header=not path.exists())"
   ],
   "outputs": [],
   "execution_count": 44
  },
  {
   "cell_type": "markdown",
   "metadata": {},
   "source": [
    "# Обучение"
   ]
  },
  {
   "cell_type": "code",
   "metadata": {
    "ExecuteTime": {
     "end_time": "2025-03-19T13:07:23.591752Z",
     "start_time": "2025-03-19T13:07:23.551665Z"
    }
   },
   "source": [
    "train(\n",
    "    SelfWritedKMeans(n_clusters=10, random_state=0),\n",
    "    params={}\n",
    ")"
   ],
   "outputs": [
    {
     "name": "stdout",
     "output_type": "stream",
     "text": [
      "{'cluster': 'SelfWritedKMeans', 'dimension': 784, 'mean fit predict time, s': np.float64(0.021406708983704448), 'best ari': 0.0, 'best ami': np.float64(0.0), 'best fmi': np.float64(0.31824841127969716)}\n",
      "{'cluster': 'SelfWritedKMeans', 'dimension': 20, 'mean fit predict time, s': np.float64(0.0008474579954054207), 'best ari': 0.0, 'best ami': np.float64(0.0), 'best fmi': np.float64(0.31939732624843936)}\n",
      "{'cluster': 'SelfWritedKMeans', 'dimension': 50, 'mean fit predict time, s': np.float64(0.001879249990452081), 'best ari': 0.0, 'best ami': np.float64(0.0), 'best fmi': np.float64(0.32054212320263425)}\n",
      "{'cluster': 'SelfWritedKMeans', 'dimension': 100, 'mean fit predict time, s': np.float64(0.0015583329950459301), 'best ari': 0.0, 'best ami': np.float64(0.0), 'best fmi': np.float64(0.31824841127969716)}\n",
      "{'cluster': 'SelfWritedKMeans', 'dimension': 105, 'mean fit predict time, s': np.float64(0.0020782089850399643), 'best ari': 0.0, 'best ami': np.float64(0.0), 'best fmi': np.float64(0.31824841127969716)}\n"
     ]
    }
   ],
   "execution_count": 45
  },
  {
   "cell_type": "code",
   "metadata": {
    "ExecuteTime": {
     "end_time": "2025-03-19T13:07:23.708053Z",
     "start_time": "2025-03-19T13:07:23.600931Z"
    }
   },
   "source": [
    "from sklearn.cluster import KMeans\n",
    "\n",
    "train(\n",
    "    KMeans(n_clusters=10, n_init='auto', random_state=0),\n",
    "    params={\"algorithm\": [\"lloyd\", \"elkan\"]}\n",
    ")"
   ],
   "outputs": [
    {
     "name": "stdout",
     "output_type": "stream",
     "text": [
      "{'cluster': 'KMeans', 'dimension': 784, 'mean fit predict time, s': np.float64(0.006869833014206961), 'best ari': 0.0, 'best ami': np.float64(0.0), 'best fmi': np.float64(0.3317729043687264)}\n",
      "{'cluster': 'KMeans', 'dimension': 20, 'mean fit predict time, s': np.float64(0.001863333018263802), 'best ari': 0.0, 'best ami': np.float64(0.0), 'best fmi': np.float64(0.3112658781274409)}\n",
      "{'cluster': 'KMeans', 'dimension': 50, 'mean fit predict time, s': np.float64(0.0017327920068055391), 'best ari': 0.0, 'best ami': np.float64(0.0), 'best fmi': np.float64(0.32054212320263425)}\n",
      "{'cluster': 'KMeans', 'dimension': 100, 'mean fit predict time, s': np.float64(0.001625208999030292), 'best ari': 0.0, 'best ami': np.float64(0.0), 'best fmi': np.float64(0.3317729043687264)}\n",
      "{'cluster': 'KMeans', 'dimension': 105, 'mean fit predict time, s': np.float64(0.001133375015342608), 'best ari': 0.0, 'best ami': np.float64(0.0), 'best fmi': np.float64(0.3317729043687264)}\n"
     ]
    }
   ],
   "execution_count": 46
  },
  {
   "cell_type": "code",
   "source": [
    "from sklearn.cluster import DBSCAN\n",
    "\n",
    "train(\n",
    "    DBSCAN(n_jobs=4),\n",
    "    params={\n",
    "        \"eps\": [500, 600, 700],\n",
    "        \"min_samples\": [40, 80, 120]\n",
    "    }\n",
    ")"
   ],
   "metadata": {
    "collapsed": false,
    "ExecuteTime": {
     "end_time": "2025-03-19T13:07:23.926659Z",
     "start_time": "2025-03-19T13:07:23.719492Z"
    }
   },
   "outputs": [
    {
     "name": "stdout",
     "output_type": "stream",
     "text": [
      "{'cluster': 'DBSCAN', 'dimension': 784, 'mean fit predict time, s': np.float64(0.03232204099185765), 'best ari': 1.0, 'best ami': 1.0, 'best fmi': np.float64(1.0)}\n",
      "{'cluster': 'DBSCAN', 'dimension': 20, 'mean fit predict time, s': np.float64(0.0011345839884597808), 'best ari': 1.0, 'best ami': 1.0, 'best fmi': np.float64(1.0)}\n",
      "{'cluster': 'DBSCAN', 'dimension': 50, 'mean fit predict time, s': np.float64(0.0005794999888166785), 'best ari': 1.0, 'best ami': 1.0, 'best fmi': np.float64(1.0)}\n",
      "{'cluster': 'DBSCAN', 'dimension': 100, 'mean fit predict time, s': np.float64(0.0007396670116577297), 'best ari': 1.0, 'best ami': 1.0, 'best fmi': np.float64(1.0)}\n",
      "{'cluster': 'DBSCAN', 'dimension': 105, 'mean fit predict time, s': np.float64(0.0005555410170927644), 'best ari': 1.0, 'best ami': 1.0, 'best fmi': np.float64(1.0)}\n"
     ]
    }
   ],
   "execution_count": 47
  },
  {
   "cell_type": "markdown",
   "source": [
    "# Результаты"
   ],
   "metadata": {
    "collapsed": false
   }
  },
  {
   "cell_type": "code",
   "source": [
    "results = pd.read_csv(pathlib.Path(\"train_res.csv\"))\n",
    "fig, axs = plt.subplots(ncols=2, nrows=2, figsize=(15, 10))\n",
    "\n",
    "for y, ax in zip(\n",
    "    [\"best ari\", \"best ami\", \"best fmi\", \"mean fit predict time, s\"], axs.flatten()\n",
    "):\n",
    "    sns.barplot(results, x=\"dimension\", y=y, hue=\"cluster\", ax=ax)\n",
    "    if y == \"mean fit predict time, s\":\n",
    "        sns.move_legend(ax, \"upper left\", bbox_to_anchor=(1, 1))\n",
    "    else:\n",
    "        ax.get_legend().remove()\n"
   ],
   "metadata": {
    "collapsed": false,
    "ExecuteTime": {
     "end_time": "2025-03-19T13:07:24.168381Z",
     "start_time": "2025-03-19T13:07:23.938149Z"
    }
   },
   "outputs": [
    {
     "data": {
      "text/plain": [
       "<Figure size 1500x1000 with 4 Axes>"
      ],
      "image/png": "[encoded data removed]"
     },
     "metadata": {},
     "output_type": "display_data"
    }
   ],
   "execution_count": 48
  },
  {
   "cell_type": "markdown",
   "source": [
    "# Итоги"
   ],
   "metadata": {
    "collapsed": false
   }
  },
  {
   "cell_type": "markdown",
   "source": [
    "По скорости самописный KMean проигрывает конкурентам, так как в нём нет параллельной работы. Качеством же он почти не уступает библиотечной. DBSCAN проигрывает обоим в качестве."
   ],
   "metadata": {
    "collapsed": false
   }
  }
 ],
 "metadata": {
  "kernelspec": {
   "display_name": "Python 3 (ipykernel)",
   "language": "python",
   "name": "python3"
  },
  "language_info": {
   "codemirror_mode": {
    "name": "ipython",
    "version": 3
   },
   "file_extension": ".py",
   "mimetype": "text/x-python",
   "name": "python",
   "nbconvert_exporter": "python",
   "pygments_lexer": "ipython3",
   "version": "3.10.6"
  }
 },
 "nbformat": 4,
 "nbformat_minor": 1
}
